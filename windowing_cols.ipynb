{
 "cells": [
  {
   "cell_type": "code",
   "execution_count": 1,
   "metadata": {},
   "outputs": [],
   "source": [
    "from feature_engine import FeatureEngine\n",
    "import pandas as pd"
   ]
  },
  {
   "cell_type": "code",
   "execution_count": 2,
   "metadata": {},
   "outputs": [],
   "source": [
    "test_obj = FeatureEngine()"
   ]
  },
  {
   "cell_type": "code",
   "execution_count": 7,
   "metadata": {},
   "outputs": [
    {
     "data": {
      "text/plain": [
       "Index(['tar_last_10_minutes', 'tar_last_30_minutes', 'tar_last_1_hour',\n",
       "       'tar_last_3_hours', 'tar_last_6_hours', 'tar_last_12_hours',\n",
       "       'tbr_last_10_minutes', 'tbr_last_30_minutes', 'tbr_last_1_hour',\n",
       "       'tbr_last_3_hours',\n",
       "       ...\n",
       "       'DKAMostRec_More than 12 months ago', 'DKAMostRec_6-12 months ago',\n",
       "       'DKANumLast12Mon_0.0', 'DKANumLast12Mon_1.0', 'OthGlucLowerMed_No',\n",
       "       'OthGlucLowerMed_Yes', 'Weight', 'Height', 'PEAbnormal_No',\n",
       "       'PEAbnormal_Yes'],\n",
       "      dtype='object', length=599)"
      ]
     },
     "execution_count": 7,
     "metadata": {},
     "output_type": "execute_result"
    }
   ],
   "source": [
    "test_obj.test_set.columns[221:]"
   ]
  },
  {
   "cell_type": "code",
   "execution_count": 92,
   "metadata": {},
   "outputs": [
    {
     "data": {
      "text/plain": [
       "''"
      ]
     },
     "execution_count": 92,
     "metadata": {},
     "output_type": "execute_result"
    }
   ],
   "source": [
    "\"\"\"\n",
    "TODO:\n",
    "Add Morlet Mexican Hat Columns IFF FFT does well\n",
    "Consider Insulin etc.\n",
    "\"\"\""
   ]
  }
 ],
 "metadata": {
  "kernelspec": {
   "display_name": "my-python3-env",
   "language": "python",
   "name": "python3"
  },
  "language_info": {
   "codemirror_mode": {
    "name": "ipython",
    "version": 3
   },
   "file_extension": ".py",
   "mimetype": "text/x-python",
   "name": "python",
   "nbconvert_exporter": "python",
   "pygments_lexer": "ipython3",
   "version": "3.9.13"
  }
 },
 "nbformat": 4,
 "nbformat_minor": 2
}
